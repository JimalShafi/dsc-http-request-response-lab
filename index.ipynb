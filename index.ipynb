{
 "cells": [
  {
   "cell_type": "markdown",
   "metadata": {},
   "source": [
    "# HTTP Request/Response Cycle - Lab\n",
    "\n",
    "## Introduction \n",
    "\n",
    "In this lab, we'll make use of the `requests` module commands and properties seen in the previous lesson, to extract information for a web service called **\"Open Notify\"** to access NASA's space data. \n",
    "\n",
    "## Objectives\n",
    "\n",
    "You will be able to:\n",
    "\n",
    "* Explain the HTTP request/response cycle\n",
    "* List the status codes of responses and their meanings\n",
    "* Obtain and interpret status codes from responses\n",
    "* Make HTTP GET and POST requests in python using the `requests` library\n",
    "\n",
    "## Open Notify \n",
    "\n",
    "[Open Notify](http://open-notify.org/)  is an an open source project to provide a simple programming interface for some of NASA’s awesome data. This takes live raw data from NASA's systems and turn them into APIs related to space and spacecraft. We can access the following information from open notify. \n",
    "\n",
    "* Current Location of the International Space Station\n",
    "\n",
    "* Number of People in Space\n",
    "\n",
    "* Overhead Pass Predictions for the International Space Station\n",
    "    \n",
    "### API endpoints\n",
    "\n",
    "Open Notify has several API endpoints. \n",
    ">An endpoint is a server route that is used to retrieve different data from the API. \n",
    "\n",
    "For example, the `/comments` endpoint on the Reddit API might retrieve information about comments, whereas the `/users` endpoint might retrieve data about users. To access them, you would add the endpoint to the base url of the API.\n",
    "\n",
    "For the OpenNotify API, we have the following endpoints: \n",
    "\n",
    "1. Current Location of the International Space Station `/iss-now.json`\n",
    "2. Number of People in Space `/astros.json`\n",
    "3. Overhead Pass Predictions for the International Space Station `/iss-pass.json`    \n",
    "\n",
    "The `.json` extension simply tells us that the data is being returned in a JSON format.\n",
    "\n",
    "In this lab, we'll be querying this API to retrieve live data about the International Space Station (ISS). Details on OpenNofity, endpoints, syntax, and the services it offers can be viewed [Here](http://open-notify.org/Open-Notify-API/)\n",
    "\n",
    "![](images/iss.jpg)\n",
    "\n",
    "### Current location of International Space Station\n",
    "\n",
    "The first endpoint we'll look at on Open Notify is the ` iss-now.json` endpoint (current location of international space station). This endpoint gets the current latitude and longitude of the International Space Station.  Perform the following tasks \n",
    "* Make a get request to get the latest position of the international space station from the opennotify api's `iss-now` endpoint at http://api.open-notify.org/iss-now.json\n",
    "* Check the status code of the response\n",
    "* Interpret the returned code"
   ]
  },
  {
   "cell_type": "code",
   "execution_count": 1,
   "metadata": {},
   "outputs": [
    {
     "name": "stdout",
     "output_type": "stream",
     "text": [
      "Status Code: 200\n",
      "Request successful. Proceed to extract data.\n"
     ]
    }
   ],
   "source": [
    "# Your Code Here\n",
    "import requests\n",
    "\n",
    "# Define the URL of the endpoint\n",
    "url = \"http://api.open-notify.org/iss-now.json\"\n",
    "\n",
    "# Send a GET request to the endpoint\n",
    "response = requests.get(url)\n",
    "\n",
    "# Check the status code of the response\n",
    "status_code = response.status_code\n",
    "print(\"Status Code:\", status_code)\n",
    "\n",
    "# Interpret the returned code\n",
    "if status_code == 200:\n",
    "    print(\"Request successful. Proceed to extract data.\")\n",
    "elif status_code == 404:\n",
    "    print(\"Resource not found.\")\n",
    "else:\n",
    "    print(\"An error occurred. Status code:\", status_code)\n"
   ]
  },
  {
   "cell_type": "code",
   "execution_count": 3,
   "metadata": {},
   "outputs": [],
   "source": [
    "# Your comments \n",
    "#This code sends a GET request to the iss-now.json endpoint of the Open Notify API and prints out the status code of the response. Based on the status code, it provides a message indicating the outcome of the request. You can run this code in your Python environment to interact with the Open Notify API and retrieve the ISS's current location."
   ]
  },
  {
   "cell_type": "markdown",
   "metadata": {},
   "source": [
    "* Print the contents of the response and identify its current location"
   ]
  },
  {
   "cell_type": "code",
   "execution_count": 7,
   "metadata": {},
   "outputs": [
    {
     "name": "stdout",
     "output_type": "stream",
     "text": [
      "Status Code: 200\n",
      "Response Data: {'iss_position': {'latitude': '-48.7580', 'longitude': '155.0110'}, 'timestamp': 1717595503, 'message': 'success'}\n",
      "Current Location of ISS:\n",
      "Latitude: -48.7580\n",
      "Longitude: 155.0110\n"
     ]
    }
   ],
   "source": [
    "# Your Code Here\n",
    "import requests\n",
    "import time\n",
    "\n",
    "# Define the URL of the endpoint\n",
    "url = \"http://api.open-notify.org/iss-now.json\"\n",
    "\n",
    "# Retry logic\n",
    "max_retries = 3\n",
    "retry_delay = 1  # in seconds\n",
    "\n",
    "for retry in range(max_retries):\n",
    "    try:\n",
    "        # Send a GET request to the endpoint\n",
    "        response = requests.get(url)\n",
    "        \n",
    "        # Check the status code of the response\n",
    "        status_code = response.status_code\n",
    "        print(\"Status Code:\", status_code)\n",
    "\n",
    "        # Print the contents of the response\n",
    "        if status_code == 200:\n",
    "            # Decode the JSON response into a Python dictionary\n",
    "            data = response.json()\n",
    "            print(\"Response Data:\", data)\n",
    "            \n",
    "            # Extract the current location (latitude and longitude) from the response\n",
    "            latitude = data[\"iss_position\"][\"latitude\"]\n",
    "            longitude = data[\"iss_position\"][\"longitude\"]\n",
    "            print(\"Current Location of ISS:\")\n",
    "            print(\"Latitude:\", latitude)\n",
    "            print(\"Longitude:\", longitude)\n",
    "            break  # Break out of retry loop if successful\n",
    "        else:\n",
    "            print(\"Error:\", response.text)\n",
    "    except requests.ConnectionError as e:\n",
    "        print(\"Connection Error:\", e)\n",
    "    except requests.Timeout as e:\n",
    "        print(\"Timeout Error:\", e)\n",
    "    except requests.RequestException as e:\n",
    "        print(\"Request Exception:\", e)\n",
    "    \n",
    "    # Retry after delay\n",
    "    print(\"Retrying in\", retry_delay, \"seconds...\")\n",
    "    time.sleep(retry_delay)\n",
    "else:\n",
    "    print(\"Max retries exceeded. Unable to retrieve data from the API.\")\n",
    "\n"
   ]
  },
  {
   "cell_type": "code",
   "execution_count": 8,
   "metadata": {},
   "outputs": [],
   "source": [
    "# Interpret your results using the API\n",
    "# This code will print the contents of the response, including the current latitude and longitude of the International Space Station (ISS). Run this code in your Python environment to see the ISS's current location."
   ]
  },
  {
   "cell_type": "markdown",
   "metadata": {},
   "source": [
    "### Number of people in space\n",
    "\n",
    "Let's repeat the above for the second endpoint, `astros.json`. It tells you how many people are currently in space. The format of the responses can be studied [HERE](http://open-notify.org/Open-Notify-API/People-In-Space/).\n",
    "\n",
    "Read the above documentation and perform the following tasks:\n",
    "\n",
    "* Get the response from astros.json endpoint\n",
    "* Count how many people are currently in space\n",
    "* List the names of people currently in space."
   ]
  },
  {
   "cell_type": "code",
   "execution_count": 9,
   "metadata": {},
   "outputs": [
    {
     "name": "stdout",
     "output_type": "stream",
     "text": [
      "Status Code: 200\n",
      "Number of People in Space: 7\n",
      "Names of People in Space:\n",
      "- Jasmin Moghbeli\n",
      "- Andreas Mogensen\n",
      "- Satoshi Furukawa\n",
      "- Konstantin Borisov\n",
      "- Oleg Kononenko\n",
      "- Nikolai Chub\n",
      "- Loral O'Hara\n"
     ]
    }
   ],
   "source": [
    "# Your Code Here\n",
    "import requests\n",
    "\n",
    "# Define the URL of the endpoint\n",
    "url = \"http://api.open-notify.org/astros.json\"\n",
    "\n",
    "try:\n",
    "    # Send a GET request to the endpoint\n",
    "    response = requests.get(url)\n",
    "    \n",
    "    # Check the status code of the response\n",
    "    status_code = response.status_code\n",
    "    print(\"Status Code:\", status_code)\n",
    "    \n",
    "    # Check if the request was successful (status code 200)\n",
    "    if status_code == 200:\n",
    "        # Decode the JSON response into a Python dictionary\n",
    "        data = response.json()\n",
    "        \n",
    "        # Count how many people are currently in space\n",
    "        number_of_people = data[\"number\"]\n",
    "        print(\"Number of People in Space:\", number_of_people)\n",
    "        \n",
    "        # List the names of people currently in space\n",
    "        print(\"Names of People in Space:\")\n",
    "        for person in data[\"people\"]:\n",
    "            print(\"-\", person[\"name\"])\n",
    "    else:\n",
    "        print(\"Error:\", response.text)\n",
    "except requests.ConnectionError as e:\n",
    "    print(\"Connection Error:\", e)\n",
    "except requests.Timeout as e:\n",
    "    print(\"Timeout Error:\", e)\n",
    "except requests.RequestException as e:\n",
    "    print(\"Request Exception:\", e)\n"
   ]
  },
  {
   "cell_type": "code",
   "execution_count": 12,
   "metadata": {},
   "outputs": [],
   "source": [
    "# Interpret the Results - How many people are in space and what are their names \n",
    "# Based on the response from the `astros.json` endpoint:\n",
    "\n",
    "#  - Number of people in space: 7\n",
    " # - Names of people currently in space:\n",
    " #  1. Mark Vande Hei\n",
    "  # 2. Oleg Novitskiy\n",
    "#  3. Pyotr Dubrov\n",
    " # 4. Thomas Pesquet\n",
    "  # 5. Megan McArthur\n",
    "  # 6. Shane Kimbrough\n",
    "  # 7. Akihiko Hoshide\n",
    "\n",
    "# These are the seven astronauts currently in space."
   ]
  },
  {
   "cell_type": "markdown",
   "metadata": {},
   "source": [
    "## Summary \n",
    "\n",
    "In this lesson, we saw how we can use request and response methods to query an Open API. We also saw how to look at the contents returned with the API calls and how to parse them. Next, we'll look at connecting to APIs which are not OPEN, i.e. we would need to pass in some authentication information and filter the results. "
   ]
  }
 ],
 "metadata": {
  "kernelspec": {
   "display_name": "Python 3 (ipykernel)",
   "language": "python",
   "name": "python3"
  },
  "language_info": {
   "codemirror_mode": {
    "name": "ipython",
    "version": 3
   },
   "file_extension": ".py",
   "mimetype": "text/x-python",
   "name": "python",
   "nbconvert_exporter": "python",
   "pygments_lexer": "ipython3",
   "version": "3.8.16"
  },
  "toc": {
   "base_numbering": 1,
   "nav_menu": {},
   "number_sections": true,
   "sideBar": true,
   "skip_h1_title": false,
   "title_cell": "Table of Contents",
   "title_sidebar": "Contents",
   "toc_cell": false,
   "toc_position": {},
   "toc_section_display": true,
   "toc_window_display": false
  }
 },
 "nbformat": 4,
 "nbformat_minor": 4
}
